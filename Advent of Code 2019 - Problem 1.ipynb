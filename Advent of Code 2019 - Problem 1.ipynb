{
 "cells": [
  {
   "cell_type": "markdown",
   "metadata": {},
   "source": [
    "# Part 1\n",
    "\n",
    "Santa has become stranded at the edge of the Solar System while delivering presents to other planets! To accurately calculate his position in space, safely align his warp drive, and return to Earth in time to save Christmas, he needs you to bring him measurements from fifty stars.\n",
    "\n",
    "Collect stars by solving puzzles. Two puzzles will be made available on each day in the Advent calendar; the second puzzle is unlocked when you complete the first. Each puzzle grants one star. Good luck!\n",
    "\n",
    "The Elves quickly load you into a spacecraft and prepare to launch.\n",
    "\n",
    "At the first Go / No Go poll, every Elf is Go until the Fuel Counter-Upper. They haven't determined the amount of fuel required yet.\n",
    "\n",
    "Fuel required to launch a given module is based on its mass. Specifically, to find the fuel required for a module, take its mass, divide by three, round down, and subtract 2.\n",
    "\n",
    "For example:\n",
    "\n",
    "For a mass of 12, divide by 3 and round down to get 4, then subtract 2 to get 2.\n",
    "For a mass of 14, dividing by 3 and rounding down still yields 4, so the fuel required is also 2.\n",
    "For a mass of 1969, the fuel required is 654.\n",
    "For a mass of 100756, the fuel required is 33583.\n",
    "The Fuel Counter-Upper needs to know the total fuel requirement. To find it, individually calculate the fuel needed for the mass of each module (your puzzle input), then add together all the fuel values.\n",
    "\n",
    "*What is the sum of the fuel requirements for all of the modules on your spacecraft?*"
   ]
  },
  {
   "cell_type": "code",
   "execution_count": 4,
   "metadata": {},
   "outputs": [
    {
     "name": "stdout",
     "output_type": "stream",
     "text": [
      "All good\n"
     ]
    }
   ],
   "source": [
    "import math\n",
    "\n",
    "def fuelRequired(mass):\n",
    "    return math.floor(mass / 3) - 2\n",
    "\n",
    "assert(fuelRequired(12) == 2)\n",
    "assert(fuelRequired(14) == 2)\n",
    "assert(fuelRequired(1969) == 654)\n",
    "assert(fuelRequired(100756) == 33583)\n",
    "print('All good')"
   ]
  },
  {
   "cell_type": "code",
   "execution_count": 5,
   "metadata": {},
   "outputs": [
    {
     "name": "stdout",
     "output_type": "stream",
     "text": [
      "100\n"
     ]
    }
   ],
   "source": [
    "puzzleInput = [94164,\n",
    "100562,\n",
    "114499,\n",
    "134308,\n",
    "138764,\n",
    "114494,\n",
    "70457,\n",
    "113793,\n",
    "117753,\n",
    "77795,\n",
    "110371,\n",
    "113357,\n",
    "118839,\n",
    "99757,\n",
    "119918,\n",
    "145232,\n",
    "147113,\n",
    "142411,\n",
    "93053,\n",
    "81783,\n",
    "124022,\n",
    "98470,\n",
    "77368,\n",
    "75163,\n",
    "79175,\n",
    "131174,\n",
    "93196,\n",
    "121875,\n",
    "86016,\n",
    "148758,\n",
    "126577,\n",
    "109812,\n",
    "105696,\n",
    "66318,\n",
    "146939,\n",
    "113236,\n",
    "130014,\n",
    "135719,\n",
    "127114,\n",
    "69700,\n",
    "109416,\n",
    "64168,\n",
    "89215,\n",
    "69015,\n",
    "128511,\n",
    "59682,\n",
    "79067,\n",
    "58795,\n",
    "145447,\n",
    "129419,\n",
    "93058,\n",
    "63860,\n",
    "146148,\n",
    "58364,\n",
    "74149,\n",
    "81871,\n",
    "116469,\n",
    "131739,\n",
    "132852,\n",
    "148040,\n",
    "98865,\n",
    "56588,\n",
    "79326,\n",
    "114713,\n",
    "52397,\n",
    "134887,\n",
    "114809,\n",
    "113356,\n",
    "60505,\n",
    "142323,\n",
    "84792,\n",
    "117079,\n",
    "147796,\n",
    "50196,\n",
    "148897,\n",
    "100794,\n",
    "50508,\n",
    "71023,\n",
    "149350,\n",
    "66679,\n",
    "93680,\n",
    "116069,\n",
    "133042,\n",
    "117291,\n",
    "127439,\n",
    "81598,\n",
    "93163,\n",
    "83964,\n",
    "64226,\n",
    "63026,\n",
    "82625,\n",
    "59589,\n",
    "94831,\n",
    "66807,\n",
    "120375,\n",
    "112108,\n",
    "83484,\n",
    "109892,\n",
    "66136,\n",
    "126794]\n",
    "\n",
    "print(len(puzzleInput))"
   ]
  },
  {
   "cell_type": "code",
   "execution_count": 6,
   "metadata": {},
   "outputs": [
    {
     "name": "stdout",
     "output_type": "stream",
     "text": [
      "3414791\n"
     ]
    }
   ],
   "source": [
    "fuelPerModule = map(fuelRequired, puzzleInput)\n",
    "totalFuel = 0\n",
    "for fuel in fuelPerModule:\n",
    "    totalFuel += fuel\n",
    "    \n",
    "print(totalFuel)"
   ]
  },
  {
   "cell_type": "markdown",
   "metadata": {},
   "source": [
    "# Part 2\n",
    "During the second Go / No Go poll, the Elf in charge of the Rocket Equation Double-Checker stops the launch sequence. Apparently, you forgot to include additional fuel for the fuel you just added.\n",
    "\n",
    "Fuel itself requires fuel just like a module - take its mass, divide by three, round down, and subtract 2. However, that fuel also requires fuel, and that fuel requires fuel, and so on. Any mass that would require negative fuel should instead be treated as if it requires zero fuel; the remaining mass, if any, is instead handled by wishing really hard, which has no mass and is outside the scope of this calculation.\n",
    "\n",
    "So, for each module mass, calculate its fuel and add it to the total. Then, treat the fuel amount you just calculated as the input mass and repeat the process, continuing until a fuel requirement is zero or negative. For example:\n",
    "\n",
    "A module of mass 14 requires 2 fuel. This fuel requires no further fuel (2 divided by 3 and rounded down is 0, which would call for a negative fuel), so the total fuel required is still just 2.\n",
    "At first, a module of mass 1969 requires 654 fuel. Then, this fuel requires 216 more fuel (654 / 3 - 2). 216 then requires 70 more fuel, which requires 21 fuel, which requires 5 fuel, which requires no further fuel. So, the total fuel required for a module of mass 1969 is 654 + 216 + 70 + 21 + 5 = 966.\n",
    "The fuel required by a module of mass 100756 and its fuel is: 33583 + 11192 + 3728 + 1240 + 411 + 135 + 43 + 12 + 2 = 50346.\n",
    "What is the sum of the fuel requirements for all of the modules on your spacecraft when also taking into account the mass of the added fuel? (Calculate the fuel requirements for each module separately, then add them all up at the end.)"
   ]
  },
  {
   "cell_type": "code",
   "execution_count": 17,
   "metadata": {},
   "outputs": [],
   "source": [
    "import time\n",
    "def timeit(method):\n",
    "    def timed(*args, **kwargs):\n",
    "        tStart = time.time()\n",
    "        result = method(*args, **kwargs)\n",
    "        tEnd = time.time()\n",
    "        \n",
    "        if 'log_time' in kwargs:\n",
    "            name = kwargs.get('log_name', method.__name__.upper())\n",
    "            kwargs['log_time'][name] = int((tEnd - tStart) * 1000)\n",
    "        else:\n",
    "            print('%r %2.2f ms' % (method.__name__, (tEnd - tStart) * 1000))\n",
    "        return result\n",
    "    return timed"
   ]
  },
  {
   "cell_type": "code",
   "execution_count": 19,
   "metadata": {},
   "outputs": [
    {
     "name": "stdout",
     "output_type": "stream",
     "text": [
      "check 1\n",
      "check 2\n",
      "check 3\n",
      "all good\n"
     ]
    }
   ],
   "source": [
    "def recursiveFuel(mass):\n",
    "    fuelForMass = fuelRequired(mass)\n",
    "    if ( fuelForMass > 0 ):\n",
    "        fuelForMass += recursiveFuel(fuelForMass)\n",
    "        return fuelForMass\n",
    "    else:\n",
    "        return 0\n",
    "\n",
    "assert(recursiveFuel(14) == 2)\n",
    "print('check 1')\n",
    "assert(recursiveFuel(1969) == 966)\n",
    "print('check 2')\n",
    "assert(recursiveFuel(100756) == 50346)\n",
    "print('check 3')\n",
    "print('all good')"
   ]
  },
  {
   "cell_type": "code",
   "execution_count": 21,
   "metadata": {},
   "outputs": [
    {
     "name": "stdout",
     "output_type": "stream",
     "text": [
      "5119312\n"
     ]
    }
   ],
   "source": [
    "recursiveFuelPerModule = map(recursiveFuel, puzzleInput)\n",
    "totalFuel = 0\n",
    "for fuel in recursiveFuelPerModule:\n",
    "    totalFuel += fuel\n",
    "    \n",
    "print(totalFuel)"
   ]
  }
 ],
 "metadata": {
  "kernelspec": {
   "display_name": "Python 3",
   "language": "python",
   "name": "python3"
  },
  "language_info": {
   "codemirror_mode": {
    "name": "ipython",
    "version": 3
   },
   "file_extension": ".py",
   "mimetype": "text/x-python",
   "name": "python",
   "nbconvert_exporter": "python",
   "pygments_lexer": "ipython3",
   "version": "3.7.4"
  }
 },
 "nbformat": 4,
 "nbformat_minor": 2
}
